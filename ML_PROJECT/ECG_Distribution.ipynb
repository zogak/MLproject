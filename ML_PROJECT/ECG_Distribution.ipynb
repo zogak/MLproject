{
 "cells": [
  {
   "cell_type": "code",
   "execution_count": 2,
   "id": "0ecc4ed6",
   "metadata": {},
   "outputs": [],
   "source": [
    "import pandas as pd\n",
    "import seaborn as sns\n",
    "import numpy as np\n",
    "\n",
    "%matplotlib inline\n",
    "import matplotlib as mpl\n",
    "import matplotlib.pyplot as plt\n",
    "\n",
    "from sklearn.model_selection import train_test_split"
   ]
  },
  {
   "cell_type": "code",
   "execution_count": 3,
   "id": "c145ca66",
   "metadata": {},
   "outputs": [],
   "source": [
    "ecg = pd.read_csv(\"D:/22-1/ml/termp/ECG_FeaturesExtracted.csv\")"
   ]
  },
  {
   "cell_type": "code",
   "execution_count": 4,
   "id": "b7b44f9c",
   "metadata": {},
   "outputs": [
    {
     "data": {
      "text/html": [
       "<div>\n",
       "<style scoped>\n",
       "    .dataframe tbody tr th:only-of-type {\n",
       "        vertical-align: middle;\n",
       "    }\n",
       "\n",
       "    .dataframe tbody tr th {\n",
       "        vertical-align: top;\n",
       "    }\n",
       "\n",
       "    .dataframe thead th {\n",
       "        text-align: right;\n",
       "    }\n",
       "</style>\n",
       "<table border=\"1\" class=\"dataframe\">\n",
       "  <thead>\n",
       "    <tr style=\"text-align: right;\">\n",
       "      <th></th>\n",
       "      <th>Quad_Cat</th>\n",
       "      <th>Mean</th>\n",
       "      <th>Min</th>\n",
       "      <th>Max</th>\n",
       "      <th>MeanRR</th>\n",
       "      <th>MedianRR</th>\n",
       "      <th>MinRR</th>\n",
       "      <th>MaxRR</th>\n",
       "      <th>LF</th>\n",
       "      <th>HF</th>\n",
       "      <th>VLF</th>\n",
       "      <th>Ibi</th>\n",
       "      <th>Bpm</th>\n",
       "      <th>Sdnn</th>\n",
       "      <th>Sdsd</th>\n",
       "      <th>Rmssd</th>\n",
       "      <th>Pnn50</th>\n",
       "      <th>pnn20</th>\n",
       "      <th>Pnn50pnn20</th>\n",
       "    </tr>\n",
       "  </thead>\n",
       "  <tbody>\n",
       "    <tr>\n",
       "      <th>0</th>\n",
       "      <td>1</td>\n",
       "      <td>9.404760e-07</td>\n",
       "      <td>-0.741816</td>\n",
       "      <td>0.919643</td>\n",
       "      <td>1531</td>\n",
       "      <td>1562.0</td>\n",
       "      <td>14</td>\n",
       "      <td>3130</td>\n",
       "      <td>1.194750e-09</td>\n",
       "      <td>2.231830e-06</td>\n",
       "      <td>4.403520e-11</td>\n",
       "      <td>763.823158</td>\n",
       "      <td>78.559522</td>\n",
       "      <td>245.875789</td>\n",
       "      <td>469.052909</td>\n",
       "      <td>102253.7461</td>\n",
       "      <td>0.478903</td>\n",
       "      <td>0.481013</td>\n",
       "      <td>0.995614</td>\n",
       "    </tr>\n",
       "    <tr>\n",
       "      <th>1</th>\n",
       "      <td>0</td>\n",
       "      <td>4.330640e-07</td>\n",
       "      <td>-0.386809</td>\n",
       "      <td>0.452853</td>\n",
       "      <td>1582</td>\n",
       "      <td>1599.0</td>\n",
       "      <td>1336</td>\n",
       "      <td>1695</td>\n",
       "      <td>1.060430e-10</td>\n",
       "      <td>1.283180e-07</td>\n",
       "      <td>2.946190e-12</td>\n",
       "      <td>794.173554</td>\n",
       "      <td>75.573801</td>\n",
       "      <td>240.813984</td>\n",
       "      <td>468.780827</td>\n",
       "      <td>127309.4367</td>\n",
       "      <td>0.477178</td>\n",
       "      <td>0.477178</td>\n",
       "      <td>1.000000</td>\n",
       "    </tr>\n",
       "    <tr>\n",
       "      <th>2</th>\n",
       "      <td>0</td>\n",
       "      <td>9.034100e-06</td>\n",
       "      <td>-0.311829</td>\n",
       "      <td>0.398468</td>\n",
       "      <td>1637</td>\n",
       "      <td>1659.5</td>\n",
       "      <td>1421</td>\n",
       "      <td>1798</td>\n",
       "      <td>2.679310e-09</td>\n",
       "      <td>6.225430e-08</td>\n",
       "      <td>8.177790e-10</td>\n",
       "      <td>781.661290</td>\n",
       "      <td>76.868796</td>\n",
       "      <td>263.073272</td>\n",
       "      <td>492.561472</td>\n",
       "      <td>130746.3059</td>\n",
       "      <td>0.459459</td>\n",
       "      <td>0.459459</td>\n",
       "      <td>1.000000</td>\n",
       "    </tr>\n",
       "    <tr>\n",
       "      <th>3</th>\n",
       "      <td>3</td>\n",
       "      <td>-1.607510e-05</td>\n",
       "      <td>-0.330817</td>\n",
       "      <td>0.405026</td>\n",
       "      <td>1724</td>\n",
       "      <td>1727.0</td>\n",
       "      <td>1574</td>\n",
       "      <td>1895</td>\n",
       "      <td>1.345210e-08</td>\n",
       "      <td>1.348180e-07</td>\n",
       "      <td>4.147950e-09</td>\n",
       "      <td>720.920000</td>\n",
       "      <td>83.241534</td>\n",
       "      <td>243.280744</td>\n",
       "      <td>419.797884</td>\n",
       "      <td>163218.7363</td>\n",
       "      <td>0.424749</td>\n",
       "      <td>0.438127</td>\n",
       "      <td>0.969466</td>\n",
       "    </tr>\n",
       "    <tr>\n",
       "      <th>4</th>\n",
       "      <td>1</td>\n",
       "      <td>3.100000e-06</td>\n",
       "      <td>-0.303375</td>\n",
       "      <td>0.390093</td>\n",
       "      <td>1634</td>\n",
       "      <td>1654.0</td>\n",
       "      <td>1354</td>\n",
       "      <td>1837</td>\n",
       "      <td>7.953400e-10</td>\n",
       "      <td>1.135080e-07</td>\n",
       "      <td>2.688100e-10</td>\n",
       "      <td>779.417204</td>\n",
       "      <td>77.044532</td>\n",
       "      <td>266.303744</td>\n",
       "      <td>502.914461</td>\n",
       "      <td>121215.4100</td>\n",
       "      <td>0.480603</td>\n",
       "      <td>0.487069</td>\n",
       "      <td>0.986726</td>\n",
       "    </tr>\n",
       "    <tr>\n",
       "      <th>...</th>\n",
       "      <td>...</td>\n",
       "      <td>...</td>\n",
       "      <td>...</td>\n",
       "      <td>...</td>\n",
       "      <td>...</td>\n",
       "      <td>...</td>\n",
       "      <td>...</td>\n",
       "      <td>...</td>\n",
       "      <td>...</td>\n",
       "      <td>...</td>\n",
       "      <td>...</td>\n",
       "      <td>...</td>\n",
       "      <td>...</td>\n",
       "      <td>...</td>\n",
       "      <td>...</td>\n",
       "      <td>...</td>\n",
       "      <td>...</td>\n",
       "      <td>...</td>\n",
       "      <td>...</td>\n",
       "    </tr>\n",
       "    <tr>\n",
       "      <th>307</th>\n",
       "      <td>2</td>\n",
       "      <td>5.233020e-06</td>\n",
       "      <td>-0.326834</td>\n",
       "      <td>0.226890</td>\n",
       "      <td>8871</td>\n",
       "      <td>2517.0</td>\n",
       "      <td>1641</td>\n",
       "      <td>61273</td>\n",
       "      <td>2.869180e-09</td>\n",
       "      <td>4.452460e-08</td>\n",
       "      <td>4.620720e-10</td>\n",
       "      <td>729.159744</td>\n",
       "      <td>82.312438</td>\n",
       "      <td>206.105776</td>\n",
       "      <td>313.428744</td>\n",
       "      <td>150982.0997</td>\n",
       "      <td>0.445513</td>\n",
       "      <td>0.509615</td>\n",
       "      <td>0.874214</td>\n",
       "    </tr>\n",
       "    <tr>\n",
       "      <th>308</th>\n",
       "      <td>0</td>\n",
       "      <td>3.885170e-05</td>\n",
       "      <td>-0.337467</td>\n",
       "      <td>0.267606</td>\n",
       "      <td>1942</td>\n",
       "      <td>2069.0</td>\n",
       "      <td>78</td>\n",
       "      <td>5059</td>\n",
       "      <td>1.020350e-07</td>\n",
       "      <td>2.892450e-07</td>\n",
       "      <td>3.324850e-08</td>\n",
       "      <td>746.706767</td>\n",
       "      <td>80.452141</td>\n",
       "      <td>217.496871</td>\n",
       "      <td>368.406657</td>\n",
       "      <td>129086.9816</td>\n",
       "      <td>0.615578</td>\n",
       "      <td>0.623116</td>\n",
       "      <td>0.987903</td>\n",
       "    </tr>\n",
       "    <tr>\n",
       "      <th>309</th>\n",
       "      <td>1</td>\n",
       "      <td>2.666020e-05</td>\n",
       "      <td>-0.327919</td>\n",
       "      <td>0.268247</td>\n",
       "      <td>1476</td>\n",
       "      <td>1342.5</td>\n",
       "      <td>57</td>\n",
       "      <td>3401</td>\n",
       "      <td>5.007920e-08</td>\n",
       "      <td>1.548030e-07</td>\n",
       "      <td>1.709190e-08</td>\n",
       "      <td>735.177570</td>\n",
       "      <td>81.646377</td>\n",
       "      <td>193.495058</td>\n",
       "      <td>311.419739</td>\n",
       "      <td>114921.7850</td>\n",
       "      <td>0.531616</td>\n",
       "      <td>0.562061</td>\n",
       "      <td>0.945833</td>\n",
       "    </tr>\n",
       "    <tr>\n",
       "      <th>310</th>\n",
       "      <td>3</td>\n",
       "      <td>1.031120e-04</td>\n",
       "      <td>-0.318627</td>\n",
       "      <td>0.254868</td>\n",
       "      <td>1758</td>\n",
       "      <td>1958.0</td>\n",
       "      <td>841</td>\n",
       "      <td>3610</td>\n",
       "      <td>3.491200e-07</td>\n",
       "      <td>1.011910e-06</td>\n",
       "      <td>1.064670e-07</td>\n",
       "      <td>730.368159</td>\n",
       "      <td>82.298379</td>\n",
       "      <td>188.080997</td>\n",
       "      <td>310.820126</td>\n",
       "      <td>100618.0409</td>\n",
       "      <td>0.580000</td>\n",
       "      <td>0.585000</td>\n",
       "      <td>0.991453</td>\n",
       "    </tr>\n",
       "    <tr>\n",
       "      <th>311</th>\n",
       "      <td>3</td>\n",
       "      <td>-9.759030e-05</td>\n",
       "      <td>-0.312999</td>\n",
       "      <td>0.224749</td>\n",
       "      <td>1711</td>\n",
       "      <td>1397.0</td>\n",
       "      <td>826</td>\n",
       "      <td>6894</td>\n",
       "      <td>2.898780e-07</td>\n",
       "      <td>7.576280e-07</td>\n",
       "      <td>9.531870e-08</td>\n",
       "      <td>752.693548</td>\n",
       "      <td>79.835491</td>\n",
       "      <td>210.404775</td>\n",
       "      <td>356.161518</td>\n",
       "      <td>108629.2813</td>\n",
       "      <td>0.648649</td>\n",
       "      <td>0.648649</td>\n",
       "      <td>1.000000</td>\n",
       "    </tr>\n",
       "  </tbody>\n",
       "</table>\n",
       "<p>312 rows × 19 columns</p>\n",
       "</div>"
      ],
      "text/plain": [
       "     Quad_Cat          Mean       Min       Max  MeanRR  MedianRR  MinRR  \\\n",
       "0           1  9.404760e-07 -0.741816  0.919643    1531    1562.0     14   \n",
       "1           0  4.330640e-07 -0.386809  0.452853    1582    1599.0   1336   \n",
       "2           0  9.034100e-06 -0.311829  0.398468    1637    1659.5   1421   \n",
       "3           3 -1.607510e-05 -0.330817  0.405026    1724    1727.0   1574   \n",
       "4           1  3.100000e-06 -0.303375  0.390093    1634    1654.0   1354   \n",
       "..        ...           ...       ...       ...     ...       ...    ...   \n",
       "307         2  5.233020e-06 -0.326834  0.226890    8871    2517.0   1641   \n",
       "308         0  3.885170e-05 -0.337467  0.267606    1942    2069.0     78   \n",
       "309         1  2.666020e-05 -0.327919  0.268247    1476    1342.5     57   \n",
       "310         3  1.031120e-04 -0.318627  0.254868    1758    1958.0    841   \n",
       "311         3 -9.759030e-05 -0.312999  0.224749    1711    1397.0    826   \n",
       "\n",
       "     MaxRR            LF            HF           VLF         Ibi        Bpm  \\\n",
       "0     3130  1.194750e-09  2.231830e-06  4.403520e-11  763.823158  78.559522   \n",
       "1     1695  1.060430e-10  1.283180e-07  2.946190e-12  794.173554  75.573801   \n",
       "2     1798  2.679310e-09  6.225430e-08  8.177790e-10  781.661290  76.868796   \n",
       "3     1895  1.345210e-08  1.348180e-07  4.147950e-09  720.920000  83.241534   \n",
       "4     1837  7.953400e-10  1.135080e-07  2.688100e-10  779.417204  77.044532   \n",
       "..     ...           ...           ...           ...         ...        ...   \n",
       "307  61273  2.869180e-09  4.452460e-08  4.620720e-10  729.159744  82.312438   \n",
       "308   5059  1.020350e-07  2.892450e-07  3.324850e-08  746.706767  80.452141   \n",
       "309   3401  5.007920e-08  1.548030e-07  1.709190e-08  735.177570  81.646377   \n",
       "310   3610  3.491200e-07  1.011910e-06  1.064670e-07  730.368159  82.298379   \n",
       "311   6894  2.898780e-07  7.576280e-07  9.531870e-08  752.693548  79.835491   \n",
       "\n",
       "           Sdnn        Sdsd        Rmssd     Pnn50     pnn20  Pnn50pnn20  \n",
       "0    245.875789  469.052909  102253.7461  0.478903  0.481013    0.995614  \n",
       "1    240.813984  468.780827  127309.4367  0.477178  0.477178    1.000000  \n",
       "2    263.073272  492.561472  130746.3059  0.459459  0.459459    1.000000  \n",
       "3    243.280744  419.797884  163218.7363  0.424749  0.438127    0.969466  \n",
       "4    266.303744  502.914461  121215.4100  0.480603  0.487069    0.986726  \n",
       "..          ...         ...          ...       ...       ...         ...  \n",
       "307  206.105776  313.428744  150982.0997  0.445513  0.509615    0.874214  \n",
       "308  217.496871  368.406657  129086.9816  0.615578  0.623116    0.987903  \n",
       "309  193.495058  311.419739  114921.7850  0.531616  0.562061    0.945833  \n",
       "310  188.080997  310.820126  100618.0409  0.580000  0.585000    0.991453  \n",
       "311  210.404775  356.161518  108629.2813  0.648649  0.648649    1.000000  \n",
       "\n",
       "[312 rows x 19 columns]"
      ]
     },
     "execution_count": 4,
     "metadata": {},
     "output_type": "execute_result"
    }
   ],
   "source": [
    "ecg"
   ]
  },
  {
   "cell_type": "code",
   "execution_count": 5,
   "id": "b192e347",
   "metadata": {},
   "outputs": [],
   "source": [
    "def getArousal(quad):\n",
    "    if quad==0 or quad==3:\n",
    "        arousal = 1\n",
    "    else:\n",
    "        arousal = 0\n",
    "    return arousal\n",
    "\n",
    "def getValence(quad):\n",
    "    if quad==0 or quad==1:\n",
    "        valence = 1\n",
    "    else:\n",
    "        valence = 0\n",
    "    return valence"
   ]
  },
  {
   "cell_type": "code",
   "execution_count": 6,
   "id": "a9a6d3b8",
   "metadata": {},
   "outputs": [],
   "source": [
    "ecg['Arousal'] = ecg.apply(lambda x : getArousal(x['Quad_Cat']), axis=1)\n",
    "ecg['Valence'] = ecg.apply(lambda x : getValence(x['Quad_Cat']), axis=1)"
   ]
  },
  {
   "cell_type": "code",
   "execution_count": 7,
   "id": "b6233b38",
   "metadata": {},
   "outputs": [],
   "source": [
    "ecg['LFHF_Ratio'] = ecg.apply(lambda x : x['LF']/x['HF'], axis=1)"
   ]
  },
  {
   "cell_type": "code",
   "execution_count": 8,
   "id": "a9135ba9",
   "metadata": {},
   "outputs": [],
   "source": [
    "quad0 = ecg[ecg['Quad_Cat']==0]\n",
    "quad1 = ecg[ecg['Quad_Cat']==1]\n",
    "quad2 = ecg[ecg['Quad_Cat']==2]\n",
    "quad3 = ecg[ecg['Quad_Cat']==3]\n",
    "\n",
    "arousal0 = ecg[ecg['Arousal']==0]\n",
    "arousal1 = ecg[ecg['Arousal']==1]\n",
    "\n",
    "valence0 = ecg[ecg['Valence']==0]\n",
    "valence1 = ecg[ecg['Valence']==1]"
   ]
  },
  {
   "cell_type": "code",
   "execution_count": 9,
   "id": "1b9dd8ad",
   "metadata": {},
   "outputs": [
    {
     "data": {
      "text/plain": [
       "0.191"
      ]
     },
     "execution_count": 9,
     "metadata": {},
     "output_type": "execute_result"
    }
   ],
   "source": [
    "np.round(quad0['LFHF_Ratio'].mean(), 3)"
   ]
  },
  {
   "cell_type": "code",
   "execution_count": 10,
   "id": "567e1292",
   "metadata": {},
   "outputs": [
    {
     "data": {
      "text/plain": [
       "0.196"
      ]
     },
     "execution_count": 10,
     "metadata": {},
     "output_type": "execute_result"
    }
   ],
   "source": [
    "np.round(quad1['LFHF_Ratio'].mean(), 3)"
   ]
  },
  {
   "cell_type": "code",
   "execution_count": 11,
   "id": "d0e7da47",
   "metadata": {},
   "outputs": [
    {
     "data": {
      "text/plain": [
       "0.175"
      ]
     },
     "execution_count": 11,
     "metadata": {},
     "output_type": "execute_result"
    }
   ],
   "source": [
    "np.round(quad2['LFHF_Ratio'].mean(), 3)"
   ]
  },
  {
   "cell_type": "code",
   "execution_count": 12,
   "id": "54b77e16",
   "metadata": {},
   "outputs": [
    {
     "data": {
      "text/plain": [
       "0.21"
      ]
     },
     "execution_count": 12,
     "metadata": {},
     "output_type": "execute_result"
    }
   ],
   "source": [
    "np.round(quad3['LFHF_Ratio'].mean(), 3)"
   ]
  },
  {
   "cell_type": "code",
   "execution_count": 13,
   "id": "1c42849f",
   "metadata": {},
   "outputs": [
    {
     "data": {
      "text/plain": [
       "0.4"
      ]
     },
     "execution_count": 13,
     "metadata": {},
     "output_type": "execute_result"
    }
   ],
   "source": [
    "np.round((quad0['LF'].mean()**0.5)*1000, 3)"
   ]
  },
  {
   "cell_type": "code",
   "execution_count": 14,
   "id": "c5c3a1e8",
   "metadata": {},
   "outputs": [
    {
     "data": {
      "text/plain": [
       "0.489"
      ]
     },
     "execution_count": 14,
     "metadata": {},
     "output_type": "execute_result"
    }
   ],
   "source": [
    "np.round((quad1['LF'].mean()**0.5)*1000, 3)"
   ]
  },
  {
   "cell_type": "code",
   "execution_count": 15,
   "id": "6ccc90ad",
   "metadata": {},
   "outputs": [
    {
     "data": {
      "text/plain": [
       "0.328"
      ]
     },
     "execution_count": 15,
     "metadata": {},
     "output_type": "execute_result"
    }
   ],
   "source": [
    "np.round((quad2['LF'].mean()**0.5)*1000, 3)"
   ]
  },
  {
   "cell_type": "code",
   "execution_count": 16,
   "id": "ed36a342",
   "metadata": {},
   "outputs": [
    {
     "data": {
      "text/plain": [
       "0.488"
      ]
     },
     "execution_count": 16,
     "metadata": {},
     "output_type": "execute_result"
    }
   ],
   "source": [
    "np.round((quad3['LF'].mean()**0.5)*1000, 3)"
   ]
  },
  {
   "cell_type": "code",
   "execution_count": 17,
   "id": "2b20508e",
   "metadata": {},
   "outputs": [
    {
     "data": {
      "text/plain": [
       "5.45573903396795e-08"
      ]
     },
     "execution_count": 17,
     "metadata": {},
     "output_type": "execute_result"
    }
   ],
   "source": [
    "valence0['VLF'].mean()"
   ]
  },
  {
   "cell_type": "code",
   "execution_count": 18,
   "id": "9f4cd1fb",
   "metadata": {},
   "outputs": [
    {
     "data": {
      "text/plain": [
       "7.680898617775641e-08"
      ]
     },
     "execution_count": 18,
     "metadata": {},
     "output_type": "execute_result"
    }
   ],
   "source": [
    "valence1['VLF'].mean()"
   ]
  },
  {
   "cell_type": "code",
   "execution_count": 21,
   "id": "6875250e",
   "metadata": {},
   "outputs": [
    {
     "data": {
      "text/plain": [
       "0.416"
      ]
     },
     "execution_count": 21,
     "metadata": {},
     "output_type": "execute_result"
    }
   ],
   "source": [
    "np.round((arousal0['LF'].mean()**0.5)*1000, 3)"
   ]
  },
  {
   "cell_type": "code",
   "execution_count": 22,
   "id": "d78492c5",
   "metadata": {},
   "outputs": [
    {
     "data": {
      "text/plain": [
       "0.446"
      ]
     },
     "execution_count": 22,
     "metadata": {},
     "output_type": "execute_result"
    }
   ],
   "source": [
    "np.round((arousal1['LF'].mean()**0.5)*1000, 3)"
   ]
  }
 ],
 "metadata": {
  "kernelspec": {
   "display_name": "Python 3",
   "language": "python",
   "name": "python3"
  },
  "language_info": {
   "codemirror_mode": {
    "name": "ipython",
    "version": 3
   },
   "file_extension": ".py",
   "mimetype": "text/x-python",
   "name": "python",
   "nbconvert_exporter": "python",
   "pygments_lexer": "ipython3",
   "version": "3.8.8"
  }
 },
 "nbformat": 4,
 "nbformat_minor": 5
}
